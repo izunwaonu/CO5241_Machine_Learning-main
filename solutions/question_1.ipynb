{
 "cells": [
  {
   "cell_type": "code",
   "execution_count": null,
   "metadata": {
    "vscode": {
     "languageId": "plaintext"
    }
   },
   "outputs": [],
   "source": [
    "import numpy as np\n",
    "\n",
    "# Function to calculate entropy\n",
    "def entropy(labels):\n",
    "    _, counts = np.unique(labels, return_counts=True)\n",
    "    probabilities = counts / counts.sum()\n",
    "    return -np.sum(probabilities * np.log2(probabilities))\n",
    "\n",
    "# Training dataset (CreditScore and RiskLevel)\n",
    "data = [\n",
    "    (720, \"Low\"),\n",
    "    (650, \"High\"),\n",
    "    (750, \"Low\"),\n",
    "    (600, \"High\"),\n",
    "    (780, \"Low\"),\n",
    "    (630, \"High\"),\n",
    "    (710, \"Low\"),\n",
    "    (640, \"High\"),\n",
    "]\n",
    "\n",
    "# Split data based on CreditScore <= 650\n",
    "left_split = [risk for credit, risk in data if credit <= 650]\n",
    "right_split = [risk for credit, risk in data if credit > 650]\n",
    "\n",
    "# Calculate entropy before split\n",
    "labels = [risk for _, risk in data]\n",
    "H_before = entropy(labels)\n",
    "\n",
    "# Calculate entropy after split\n",
    "H_left = entropy(left_split)\n",
    "H_right = entropy(right_split)\n",
    "\n",
    "# Calculate weighted entropy\n",
    "total = len(data)\n",
    "H_after = (len(left_split) / total) * H_left + (len(right_split) / total) * H_right\n",
    "\n",
    "# Compute Information Gain\n",
    "IG = H_before - H_after\n",
    "\n",
    "# Print results\n",
    "print(f\"Entropy before split: {H_before:.4f}\")\n",
    "print(f\"Entropy after split: {H_after:.4f}\")\n",
    "print(f\"Information Gain: {IG:.4f}\")\n",
    "\n",
    "# Decision: Is CreditScore=650 a good split?\n",
    "if IG > 0.5:\n",
    "    print(\" CreditScore=650 is a good split!\")\n",
    "else:\n",
    "    print(\" Consider a different feature for splitting.\")\n"
   ]
  }
 ],
 "metadata": {
  "language_info": {
   "name": "python"
  }
 },
 "nbformat": 4,
 "nbformat_minor": 2
}
