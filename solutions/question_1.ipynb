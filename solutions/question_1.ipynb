{
 "cells": [
  {
   "cell_type": "code",
   "execution_count": 1,
   "metadata": {},
   "outputs": [
    {
     "name": "stdout",
     "output_type": "stream",
     "text": [
      "Entropy before split: 1.0000\n",
      "Entropy after split: -0.0000\n",
      "Information Gain: 1.0000\n",
      " CreditScore=650 is a good split!\n"
     ]
    }
   ],
   "source": [
    "import numpy as np\n",
    "\n",
    "# Function to calculate entropy\n",
    "def entropy(labels):\n",
    "    _, counts = np.unique(labels, return_counts=True)\n",
    "    probabilities = counts / counts.sum()\n",
    "    return -np.sum(probabilities * np.log2(probabilities))\n",
    "\n",
    "# Training dataset (CreditScore and RiskLevel)\n",
    "data = [\n",
    "    (720, \"Low\"),\n",
    "    (650, \"High\"),\n",
    "    (750, \"Low\"),\n",
    "    (600, \"High\"),\n",
    "    (780, \"Low\"),\n",
    "    (630, \"High\"),\n",
    "    (710, \"Low\"),\n",
    "    (640, \"High\"),\n",
    "]\n",
    "\n",
    "# Split data based on CreditScore <= 650\n",
    "left_split = [risk for credit, risk in data if credit <= 650]\n",
    "right_split = [risk for credit, risk in data if credit > 650]\n",
    "\n",
    "# Calculate entropy before split\n",
    "labels = [risk for _, risk in data]\n",
    "H_before = entropy(labels)\n",
    "\n",
    "# Calculate entropy after split\n",
    "H_left = entropy(left_split)\n",
    "H_right = entropy(right_split)\n",
    "\n",
    "# Calculate weighted entropy\n",
    "total = len(data)\n",
    "H_after = (len(left_split) / total) * H_left + (len(right_split) / total) * H_right\n",
    "\n",
    "# Compute Information Gain\n",
    "IG = H_before - H_after\n",
    "\n",
    "# Print results\n",
    "print(f\"Entropy before split: {H_before:.4f}\")\n",
    "print(f\"Entropy after split: {H_after:.4f}\")\n",
    "print(f\"Information Gain: {IG:.4f}\")\n",
    "\n",
    "# Decision: Is CreditScore=650 a good split?\n",
    "if IG > 0.5:\n",
    "    print(\" CreditScore=650 is a good split!\")\n",
    "else:\n",
    "    print(\" Consider a different feature for splitting.\")\n"
   ]
  }
 ],
 "metadata": {
  "kernelspec": {
   "display_name": "Python 3",
   "language": "python",
   "name": "python3"
  },
  "language_info": {
   "codemirror_mode": {
    "name": "ipython",
    "version": 3
   },
   "file_extension": ".py",
   "mimetype": "text/x-python",
   "name": "python",
   "nbconvert_exporter": "python",
   "pygments_lexer": "ipython3",
   "version": "3.13.0"
  }
 },
 "nbformat": 4,
 "nbformat_minor": 2
}
